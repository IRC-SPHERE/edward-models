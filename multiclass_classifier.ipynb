{
 "cells": [
  {
   "cell_type": "heading",
   "metadata": {
    "collapsed": true
   },
   "level": 1,
   "source": [
    "Bayesian Logistic Regression"
   ]
  },
  {
   "cell_type": "code",
   "execution_count": 58,
   "metadata": {
    "collapsed": true
   },
   "outputs": [
    {
     "name": "stdout",
     "output_type": "stream",
     "text": [
      "The autoreload extension is already loaded. To reload it, use:\n  %reload_ext autoreload\n1.1.2\n1.0.0\n"
     ]
    }
   ],
   "source": [
    "%load_ext autoreload\n",
    "%autoreload 1\n",
    "\n",
    "from sklearn.datasets import load_iris\n",
    "from sklearn.linear_model import LogisticRegression\n",
    "from sklearn.cross_validation import train_test_split\n",
    "import numpy as np\n",
    "%aimport tensorflow\n",
    "import tensorflow as tf\n",
    "\n",
    "import edward as ed\n",
    "from edward.models import Normal, Bernoulli, Categorical\n",
    "# from tensorflow.contrib.distributions import Categorical\n",
    "\n",
    "import matplotlib.pyplot as plt\n",
    "import seaborn as sns\n",
    "\n",
    "sns.set_style(\"darkgrid\")\n",
    "%matplotlib inline\n",
    "\n",
    "tf.logging.set_verbosity(tf.logging.ERROR)\n",
    "\n",
    "print(ed.__version__)\n",
    "print(tf.__version__)"
   ]
  },
  {
   "cell_type": "heading",
   "metadata": {},
   "level": 1,
   "source": [
    "Load in iris data"
   ]
  },
  {
   "cell_type": "code",
   "execution_count": 2,
   "metadata": {},
   "outputs": [],
   "source": [
    "iris = load_iris()\n",
    "X = iris.data[:, :2].astype(np.float32)\n",
    "Y = iris.target.astype(np.int32)\n",
    "C = len(iris.target_names)\n",
    "X_train, X_test, Y_train, Y_test = train_test_split(X, Y, test_size=.5)"
   ]
  },
  {
   "cell_type": "heading",
   "metadata": {},
   "level": 2,
   "source": [
    "Binary Model"
   ]
  },
  {
   "cell_type": "code",
   "execution_count": 10,
   "metadata": {},
   "outputs": [],
   "source": [
    "class BinaryModel(object):\n",
    "    def __init__(self, N, D):\n",
    "        self.X = tf.placeholder(tf.float32, shape=[N, D])\n",
    "        self.w = Normal(mu=tf.zeros([D]), sigma=tf.ones([D]))\n",
    "        self.b = Normal(mu=tf.zeros([1]), sigma=tf.ones([1]))\n",
    "        self.s = Normal(mu=ed.dot(self.X, self.w) + self.b, sigma=tf.ones(N))\n",
    "        self.qw = Normal(mu=tf.Variable(tf.random_normal([D])), sigma=tf.nn.softplus(tf.Variable(tf.random_normal([D]))))\n",
    "        self.qb = Normal(mu=tf.Variable(tf.random_normal([1])), sigma=tf.nn.softplus(tf.Variable(tf.random_normal([1]))))\n",
    "        self.y = Bernoulli(logits=self.s)\n",
    "\n",
    "    def fit(self, X, y):\n",
    "        y = (y > 0).astype(np.int32)\n",
    "        # inference = ed.MFVI({self.w: self.qw, self.b: self.qb}, data={self.X: X, self.y: y})\n",
    "        # inference.run()\n",
    "        inference = ed.Inference({self.w: self.qw, self.b: self.qb}, data={self.X: X, self.y: y})\n",
    "        sess = ed.get_session()\n",
    "        init = tf.global_variables_initializer()\n",
    "        init.run()\n",
    "        \n",
    "    def predict_proba(self, X, y=None):\n",
    "        y_post = ed.copy(self.y, {self.X: X, self.w: self.qw, self.b: self.qb})\n",
    "        sess = ed.get_session()\n",
    "        y_hat = sess.run(y_post.mean())\n",
    "        return y_hat"
   ]
  },
  {
   "cell_type": "code",
   "execution_count": 57,
   "metadata": {
    "collapsed": true
   },
   "outputs": [
    {
     "data": {
      "text/plain": [
       "array([  5.82982844e-04,   3.83698428e-03,   5.64901298e-03,\n         2.89702602e-03,   3.82500514e-03,   1.85881509e-03,\n         5.95472578e-04,   1.89975109e-02,   1.63579807e-02,\n         2.39507407e-02,   4.53087091e-02,   4.32373350e-03,\n         9.07501113e-03,   6.99760672e-03,   1.39794650e-03,\n         1.24007941e-03,   1.56162726e-03,   3.78996687e-04,\n         1.39530760e-03,   5.75790706e-04,   5.66998078e-03,\n         8.84821755e-04,   1.64044928e-03,   4.69403400e-04,\n         2.98791099e-04,   1.19498959e-02,   7.42657576e-04,\n         6.57544378e-03,   5.59139624e-03,   1.61973678e-03,\n         2.72609969e-03,   2.59756949e-03,   1.22905697e-03,\n         1.33835971e-02,   1.59463802e-04,   8.38618074e-03,\n         6.97880844e-03,   1.59374147e-03,   2.97951954e-03,\n         1.22631118e-02,   1.34459755e-04,   6.52364906e-05,\n         5.17150213e-04,   7.69510749e-04,   6.89820386e-03,\n         3.71592119e-03,   1.36271864e-02,   2.25982582e-03,\n         7.75552064e-04,   5.24027200e-05,   4.36697202e-03,\n         3.59795056e-03,   1.71522304e-04,   7.60399969e-04,\n         1.00311256e-04,   1.83182550e-04,   2.59484106e-04,\n         1.31524680e-03,   1.61872897e-02,   2.25747150e-04,\n         3.46563105e-03,   4.50058113e-04,   1.67189617e-04,\n         1.85891346e-03,   1.36320450e-04,   5.05121909e-02,\n         9.63556301e-03,   3.87062086e-04,   6.80046331e-04,\n         4.73646796e-04,   1.91664174e-02,   1.63171469e-04,\n         1.16417406e-03,   1.13019848e-03,   3.31527889e-02], dtype=float32)"
      ]
     },
     "execution_count": 57,
     "metadata": {},
     "output_type": "execute_result"
    }
   ],
   "source": [
    "model = BinaryModel(*X_train.shape)\n",
    "model.fit(X_train, Y_train)\n",
    "model.predict_proba(X_test)"
   ]
  },
  {
   "cell_type": "heading",
   "metadata": {},
   "level": 2,
   "source": [
    "Multiclass Model"
   ]
  },
  {
   "cell_type": "code",
   "execution_count": 60,
   "metadata": {},
   "outputs": [],
   "source": [
    "class MulticlassModel(object):\n",
    "    def __init__(self, N, D, C):\n",
    "        self.X = tf.placeholder(tf.float32, shape=[N, D])\n",
    "        self.w = Normal(mu=tf.zeros([D, C]), sigma=tf.ones([D, C]))\n",
    "        self.b = Normal(mu=tf.zeros([C]), sigma=tf.ones([C]))\n",
    "        self.s = Normal(mu=tf.matmul(self.X, self.w) + self.b, sigma=tf.ones([N, C]))\n",
    "        self.qw = Normal(mu=tf.Variable(tf.random_normal([D, C])), sigma=tf.nn.softplus(tf.Variable(tf.random_normal([D, C]))))\n",
    "        self.qb = Normal(mu=tf.Variable(tf.random_normal([C])), sigma=tf.nn.softplus(tf.Variable(tf.random_normal([C]))))\n",
    "        self.y = Categorical(logits=tf.nn.softmax(logits=self.s))\n",
    "\n",
    "    def fit(self, X, y):\n",
    "        # inference = ed.MFVI({self.w: self.qw, self.b: self.qb}, data={self.X: X, self.y: y})\n",
    "        # inference.run()\n",
    "        inference = ed.Inference({self.w: self.qw, self.b: self.qb}, data={self.X: X, self.y: y})\n",
    "        sess = ed.get_session()\n",
    "        init = tf.global_variables_initializer()\n",
    "        init.run()\n",
    "        \n",
    "    def predict_proba(self, X, y=None):\n",
    "        y_post = ed.copy(self.y, {self.X: X, self.w: self.qw, self.b: self.qb})\n",
    "        sess = ed.get_session()\n",
    "        y_hat = sess.run(y_post.probs)\n",
    "        print(y_hat)\n",
    "        return y_hat"
   ]
  },
  {
   "cell_type": "code",
   "execution_count": 65,
   "metadata": {
    "collapsed": true
   },
   "outputs": [
    {
     "name": "stdout",
     "output_type": "stream",
     "text": [
      "[('__class__', <class 'edward.models.random_variables.Categorical'>), ('__delattr__', <method-wrapper '__delattr__' of Categorical object at 0x127130950>), ('__dict__', {'_value': <tf.Tensor 'RandomVariable_138/Categorical/sample/Reshape_2:0' shape=() dtype=int32>, '_name': 'RandomVariable_138/', '_dist_args': {'logits': [0.5, 0.5]}, '_dist': <tensorflow.contrib.distributions.python.ops.categorical.Categorical object at 0x12720d990>, '_dist_cls': <class 'tensorflow.contrib.distributions.python.ops.categorical.Categorical'>}), ('__doc__', None), ('__format__', <built-in method __format__ of Categorical object at 0x127130950>), ('__getattribute__', <method-wrapper '__getattribute__' of Categorical object at 0x127130950>), ('__hash__', <method-wrapper '__hash__' of Categorical object at 0x127130950>), ('__init__', <bound method Categorical.__init__ of <edward.models.random_variables.Categorical object at 0x127130950>>), ('__module__', 'edward.models.random_variables'), ('__new__', <built-in method __new__ of type object at 0x10e7e7ad0>), ('__reduce__', <built-in method __reduce__ of Categorical object at 0x127130950>), ('__reduce_ex__', <built-in method __reduce_ex__ of Categorical object at 0x127130950>), ('__repr__', <method-wrapper '__repr__' of Categorical object at 0x127130950>), ('__setattr__', <method-wrapper '__setattr__' of Categorical object at 0x127130950>), ('__sizeof__', <built-in method __sizeof__ of Categorical object at 0x127130950>), ('__str__', <bound method Categorical.__str__ of <edward.models.random_variables.Categorical object at 0x127130950>>), ('__subclasshook__', <built-in method __subclasshook__ of type object at 0x7f83177b2960>), ('__weakref__', None), ('_dist', <tensorflow.contrib.distributions.python.ops.categorical.Categorical object at 0x12720d990>), ('_dist_args', {'logits': [0.5, 0.5]}), ('_dist_cls', <class 'tensorflow.contrib.distributions.python.ops.categorical.Categorical'>), ('_name', 'RandomVariable_138/'), ('_tensor_conversion_function', <bound method Categorical._tensor_conversion_function of <edward.models.random_variables.Categorical object at 0x127130950>>), ('_value', <tf.Tensor 'RandomVariable_138/Categorical/sample/Reshape_2:0' shape=() dtype=int32>), ('allow_nan_stats', True), ('batch_shape', <bound method Categorical.batch_shape of <edward.models.random_variables.Categorical object at 0x127130950>>), ('cdf', <bound method Categorical.cdf of <edward.models.random_variables.Categorical object at 0x127130950>>), ('distribution', <tensorflow.contrib.distributions.python.ops.categorical.Categorical object at 0x12720d990>), ('dtype', tf.int32), ('entropy', <bound method Categorical.entropy of <edward.models.random_variables.Categorical object at 0x127130950>>), ('event_shape', <bound method Categorical.event_shape of <edward.models.random_variables.Categorical object at 0x127130950>>), ('get_batch_shape', <bound method Categorical.get_batch_shape of <edward.models.random_variables.Categorical object at 0x127130950>>), ('get_event_shape', <bound method Categorical.get_event_shape of <edward.models.random_variables.Categorical object at 0x127130950>>), ('is_continuous', False), ('is_reparameterized', False), ('log_cdf', <bound method Categorical.log_cdf of <edward.models.random_variables.Categorical object at 0x127130950>>), ('log_pdf', <bound method Categorical.log_pdf of <edward.models.random_variables.Categorical object at 0x127130950>>), ('log_pmf', <bound method Categorical.log_pmf of <edward.models.random_variables.Categorical object at 0x127130950>>), ('log_prob', <bound method Categorical.log_prob of <edward.models.random_variables.Categorical object at 0x127130950>>), ('mean', <bound method Categorical.mean of <edward.models.random_variables.Categorical object at 0x127130950>>), ('mode', <bound method Categorical.mode of <edward.models.random_variables.Categorical object at 0x127130950>>), ('name', 'RandomVariable_138/'), ('parameters', {'name': 'Categorical', 'validate_args': False, 'dtype': tf.int32, 'p': None, 'allow_nan_stats': True, 'logits': [0.5, 0.5]}), ('pdf', <bound method Categorical.pdf of <edward.models.random_variables.Categorical object at 0x127130950>>), ('pmf', <bound method Categorical.pmf of <edward.models.random_variables.Categorical object at 0x127130950>>), ('prob', <bound method Categorical.prob of <edward.models.random_variables.Categorical object at 0x127130950>>), ('sample', <bound method Categorical.sample of <edward.models.random_variables.Categorical object at 0x127130950>>), ('sample_n', <bound method Categorical.sample_n of <edward.models.random_variables.Categorical object at 0x127130950>>), ('std', <bound method Categorical.std of <edward.models.random_variables.Categorical object at 0x127130950>>), ('validate_args', False), ('value', <bound method Categorical.value of <edward.models.random_variables.Categorical object at 0x127130950>>), ('variance', <bound method Categorical.variance of <edward.models.random_variables.Categorical object at 0x127130950>>)]\n"
     ]
    },
    {
     "ename": "AttributeError",
     "evalue": "'Categorical' object has no attribute '_name'",
     "traceback": [
      "\u001b[0;31m\u001b[0m",
      "\u001b[0;31mAttributeError\u001b[0mTraceback (most recent call last)",
      "\u001b[0;32m<ipython-input-65-982171a60101>\u001b[0m in \u001b[0;36m<module>\u001b[0;34m()\u001b[0m\n\u001b[1;32m      6\u001b[0m \u001b[0mmodel\u001b[0m \u001b[0;34m=\u001b[0m \u001b[0mMulticlassModel\u001b[0m\u001b[0;34m(\u001b[0m\u001b[0mX_train\u001b[0m\u001b[0;34m.\u001b[0m\u001b[0mshape\u001b[0m\u001b[0;34m[\u001b[0m\u001b[0;36m0\u001b[0m\u001b[0;34m]\u001b[0m\u001b[0;34m,\u001b[0m \u001b[0mX_train\u001b[0m\u001b[0;34m.\u001b[0m\u001b[0mshape\u001b[0m\u001b[0;34m[\u001b[0m\u001b[0;36m1\u001b[0m\u001b[0;34m]\u001b[0m\u001b[0;34m,\u001b[0m \u001b[0mC\u001b[0m\u001b[0;34m)\u001b[0m\u001b[0;34m\u001b[0m\u001b[0m\n\u001b[1;32m      7\u001b[0m \u001b[0mmodel\u001b[0m\u001b[0;34m.\u001b[0m\u001b[0mfit\u001b[0m\u001b[0;34m(\u001b[0m\u001b[0mX_train\u001b[0m\u001b[0;34m,\u001b[0m \u001b[0mY_train\u001b[0m\u001b[0;34m)\u001b[0m\u001b[0;34m\u001b[0m\u001b[0m\n\u001b[0;32m----> 8\u001b[0;31m \u001b[0mmodel\u001b[0m\u001b[0;34m.\u001b[0m\u001b[0mpredict_proba\u001b[0m\u001b[0;34m(\u001b[0m\u001b[0mX_test\u001b[0m\u001b[0;34m)\u001b[0m\u001b[0;34m\u001b[0m\u001b[0m\n\u001b[0m",
      "\u001b[0;32m<ipython-input-60-3b3c46e49f7f>\u001b[0m in \u001b[0;36mpredict_proba\u001b[0;34m(self, X, y)\u001b[0m\n\u001b[1;32m     18\u001b[0m \u001b[0;34m\u001b[0m\u001b[0m\n\u001b[1;32m     19\u001b[0m     \u001b[0;32mdef\u001b[0m \u001b[0mpredict_proba\u001b[0m\u001b[0;34m(\u001b[0m\u001b[0mself\u001b[0m\u001b[0;34m,\u001b[0m \u001b[0mX\u001b[0m\u001b[0;34m,\u001b[0m \u001b[0my\u001b[0m\u001b[0;34m=\u001b[0m\u001b[0mNone\u001b[0m\u001b[0;34m)\u001b[0m\u001b[0;34m:\u001b[0m\u001b[0;34m\u001b[0m\u001b[0m\n\u001b[0;32m---> 20\u001b[0;31m         \u001b[0my_post\u001b[0m \u001b[0;34m=\u001b[0m \u001b[0med\u001b[0m\u001b[0;34m.\u001b[0m\u001b[0mcopy\u001b[0m\u001b[0;34m(\u001b[0m\u001b[0mself\u001b[0m\u001b[0;34m.\u001b[0m\u001b[0my\u001b[0m\u001b[0;34m,\u001b[0m \u001b[0;34m{\u001b[0m\u001b[0mself\u001b[0m\u001b[0;34m.\u001b[0m\u001b[0mX\u001b[0m\u001b[0;34m:\u001b[0m \u001b[0mX\u001b[0m\u001b[0;34m,\u001b[0m \u001b[0mself\u001b[0m\u001b[0;34m.\u001b[0m\u001b[0mw\u001b[0m\u001b[0;34m:\u001b[0m \u001b[0mself\u001b[0m\u001b[0;34m.\u001b[0m\u001b[0mqw\u001b[0m\u001b[0;34m,\u001b[0m \u001b[0mself\u001b[0m\u001b[0;34m.\u001b[0m\u001b[0mb\u001b[0m\u001b[0;34m:\u001b[0m \u001b[0mself\u001b[0m\u001b[0;34m.\u001b[0m\u001b[0mqb\u001b[0m\u001b[0;34m}\u001b[0m\u001b[0;34m)\u001b[0m\u001b[0;34m\u001b[0m\u001b[0m\n\u001b[0m\u001b[1;32m     21\u001b[0m         \u001b[0msess\u001b[0m \u001b[0;34m=\u001b[0m \u001b[0med\u001b[0m\u001b[0;34m.\u001b[0m\u001b[0mget_session\u001b[0m\u001b[0;34m(\u001b[0m\u001b[0;34m)\u001b[0m\u001b[0;34m\u001b[0m\u001b[0m\n\u001b[1;32m     22\u001b[0m         \u001b[0my_hat\u001b[0m \u001b[0;34m=\u001b[0m \u001b[0msess\u001b[0m\u001b[0;34m.\u001b[0m\u001b[0mrun\u001b[0m\u001b[0;34m(\u001b[0m\u001b[0my_post\u001b[0m\u001b[0;34m.\u001b[0m\u001b[0mprobs\u001b[0m\u001b[0;34m)\u001b[0m\u001b[0;34m\u001b[0m\u001b[0m\n",
      "\u001b[0;32m/usr/local/lib/python2.7/site-packages/edward/util.pyc\u001b[0m in \u001b[0;36mcopy\u001b[0;34m(org_instance, dict_swap, scope, replace_itself, copy_q)\u001b[0m\n\u001b[1;32m    113\u001b[0m   \u001b[0;31m# Do this for random variables.\u001b[0m\u001b[0;34m\u001b[0m\u001b[0;34m\u001b[0m\u001b[0m\n\u001b[1;32m    114\u001b[0m   random_variables = {x.name: x for x in\n\u001b[0;32m--> 115\u001b[0;31m                       graph.get_collection('_random_variable_collection_')}\n\u001b[0m\u001b[1;32m    116\u001b[0m   \u001b[0;32mif\u001b[0m \u001b[0mnew_name\u001b[0m \u001b[0;32min\u001b[0m \u001b[0mrandom_variables\u001b[0m\u001b[0;34m:\u001b[0m\u001b[0;34m\u001b[0m\u001b[0m\n\u001b[1;32m    117\u001b[0m     \u001b[0;32mreturn\u001b[0m \u001b[0mrandom_variables\u001b[0m\u001b[0;34m[\u001b[0m\u001b[0mnew_name\u001b[0m\u001b[0;34m]\u001b[0m\u001b[0;34m\u001b[0m\u001b[0m\n",
      "\u001b[0;32m/usr/local/lib/python2.7/site-packages/edward/util.pyc\u001b[0m in \u001b[0;36m<dictcomp>\u001b[0;34m((x,))\u001b[0m\n\u001b[1;32m    112\u001b[0m   \u001b[0;31m# If an instance of the same name exists, return appropriately.\u001b[0m\u001b[0;34m\u001b[0m\u001b[0;34m\u001b[0m\u001b[0m\n\u001b[1;32m    113\u001b[0m   \u001b[0;31m# Do this for random variables.\u001b[0m\u001b[0;34m\u001b[0m\u001b[0;34m\u001b[0m\u001b[0m\n\u001b[0;32m--> 114\u001b[0;31m   random_variables = {x.name: x for x in\n\u001b[0m\u001b[1;32m    115\u001b[0m                       graph.get_collection('_random_variable_collection_')}\n\u001b[1;32m    116\u001b[0m   \u001b[0;32mif\u001b[0m \u001b[0mnew_name\u001b[0m \u001b[0;32min\u001b[0m \u001b[0mrandom_variables\u001b[0m\u001b[0;34m:\u001b[0m\u001b[0;34m\u001b[0m\u001b[0m\n",
      "\u001b[0;32m/usr/local/lib/python2.7/site-packages/edward/models/random_variable.pyc\u001b[0m in \u001b[0;36mname\u001b[0;34m(self)\u001b[0m\n\u001b[1;32m     49\u001b[0m   \u001b[0;34m@\u001b[0m\u001b[0mproperty\u001b[0m\u001b[0;34m\u001b[0m\u001b[0m\n\u001b[1;32m     50\u001b[0m   \u001b[0;32mdef\u001b[0m \u001b[0mname\u001b[0m\u001b[0;34m(\u001b[0m\u001b[0mself\u001b[0m\u001b[0;34m)\u001b[0m\u001b[0;34m:\u001b[0m\u001b[0;34m\u001b[0m\u001b[0m\n\u001b[0;32m---> 51\u001b[0;31m     \u001b[0;32mreturn\u001b[0m \u001b[0mself\u001b[0m\u001b[0;34m.\u001b[0m\u001b[0m_name\u001b[0m\u001b[0;34m\u001b[0m\u001b[0m\n\u001b[0m\u001b[1;32m     52\u001b[0m \u001b[0;34m\u001b[0m\u001b[0m\n\u001b[1;32m     53\u001b[0m   \u001b[0;34m@\u001b[0m\u001b[0mproperty\u001b[0m\u001b[0;34m\u001b[0m\u001b[0m\n",
      "\u001b[0;31mAttributeError\u001b[0m: 'Categorical' object has no attribute '_name'"
     ],
     "output_type": "error"
    }
   ],
   "source": [
    "c = Categorical(logits=[0.5, 0.5])\n",
    "import inspect\n",
    "print(inspect.getmembers(c))\n",
    "\n",
    "Y_train = Y_train.astype(np.float32)\n",
    "model = MulticlassModel(X_train.shape[0], X_train.shape[1], C)\n",
    "model.fit(X_train, Y_train)\n",
    "model.predict_proba(X_test)"
   ]
  },
  {
   "cell_type": "code",
   "execution_count": 40,
   "metadata": {},
   "outputs": [
    {
     "data": {
      "image/png": "[encoded data removed]",
      "text/plain": [
       "<matplotlib.figure.Figure at 0x1155091d0>"
      ]
     },
     "metadata": {},
     "output_type": "display_data"
    }
   ],
   "source": [
    "logreg = LogisticRegression(C=1e5)\n",
    "\n",
    "# we create an instance of Logistic Regression Classifier and fit the data.\n",
    "logreg.fit(X, Y)\n",
    "\n",
    "h = .02  # step size in the mesh\n",
    "\n",
    "# Plot the decision boundary. For that, we will assign a color to each\n",
    "# point in the mesh [x_min, x_max]x[y_min, y_max].\n",
    "x_min, x_max = X[:, 0].min() - .5, X[:, 0].max() + .5\n",
    "y_min, y_max = X[:, 1].min() - .5, X[:, 1].max() + .5\n",
    "xx, yy = np.meshgrid(np.arange(x_min, x_max, h), np.arange(y_min, y_max, h))\n",
    "Z = logreg.predict(np.c_[xx.ravel(), yy.ravel()])\n",
    "\n",
    "# Put the result into a color plot\n",
    "Z = Z.reshape(xx.shape)\n",
    "plt.figure(1, figsize=(6, 6), facecolor='w')\n",
    "plt.pcolormesh(xx, yy, Z, cmap=plt.cm.Paired)\n",
    "\n",
    "# Plot also the training points\n",
    "plt.scatter(X[:, 0], X[:, 1], c=Y, edgecolors='k', cmap=plt.cm.Paired)\n",
    "plt.xlabel('Sepal length')\n",
    "plt.ylabel('Sepal width')\n",
    "plt.xlim(xx.min(), xx.max())\n",
    "plt.ylim(yy.min(), yy.max())\n",
    "plt.xticks(())\n",
    "plt.yticks(())\n",
    "plt.show()"
   ]
  },
  {
   "cell_type": "code",
   "execution_count": null,
   "metadata": {},
   "outputs": [],
   "source": [
    ""
   ]
  }
 ],
 "metadata": {
  "kernelspec": {
   "display_name": "Python 2",
   "language": "python",
   "name": "python2"
  },
  "language_info": {
   "codemirror_mode": {
    "name": "ipython",
    "version": 2.0
   },
   "file_extension": ".py",
   "mimetype": "text/x-python",
   "name": "python",
   "nbconvert_exporter": "python",
   "pygments_lexer": "ipython2",
   "version": "2.7.6"
  }
 },
 "nbformat": 4,
 "nbformat_minor": 0
}